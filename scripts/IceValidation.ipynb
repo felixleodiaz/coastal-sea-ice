{
 "cells": [
  {
   "cell_type": "markdown",
   "id": "80609563",
   "metadata": {},
   "source": [
    "The notebook handles validation for all data"
   ]
  },
  {
   "cell_type": "code",
   "execution_count": null,
   "id": "b5d28731",
   "metadata": {},
   "outputs": [],
   "source": [
    "# import libraries\n",
    "\n",
    "import earthaccess\n",
    "import xarray as xr\n",
    "import dask\n",
    "import numpy as np\n",
    "import pandas as pd\n",
    "import geopandas as gpd\n",
    "import cartopy.feature as cfeature\n",
    "import cartopy.crs as ccrs\n",
    "from rasterio import features\n",
    "from scipy.ndimage import distance_transform_edt\n",
    "import matplotlib.pyplot as plt\n",
    "import matplotlib.pyplot as plt\n",
    "import seaborn as sns\n",
    "from pyproj import Proj, Transformer\n",
    "from pathlib import Path\n",
    "import glob\n",
    "\n",
    "# colormap for plotting sea ice throughout rest of project\n",
    "\n",
    "cmap = plt.get_cmap(\"Blues_r\").copy()\n",
    "cmap.set_bad(color='lightgray')\n",
    "\n",
    "# authenticate NASA earth access\n",
    "\n",
    "auth = earthaccess.login(strategy='interactive', persist = True)"
   ]
  },
  {
   "cell_type": "code",
   "execution_count": null,
   "id": "94fdbe83",
   "metadata": {},
   "outputs": [],
   "source": [
    "# search NASA database for Team\n",
    "\n",
    "results = earthaccess.search_data(\n",
    "    short_name= 'NSIDC-0051',\n",
    "    temporal=('2013-01-01', '2025-12-31'),\n",
    "    bounding_box=(-180, 0, 180, 90),\n",
    "    cloud_hosted=True\n",
    ")\n",
    "\n",
    "import re\n",
    "filtered_results = [\n",
    "    g for g in results\n",
    "    if re.search(r'_20\\d{6}_', g.data_links(access='external')[0])\n",
    "]\n",
    "\n",
    "print(f\"We found {len(results)} results matching your parameters, and filtered them down to {len(filtered_results)} by removing monthly averages\")"
   ]
  },
  {
   "cell_type": "code",
   "execution_count": null,
   "id": "86bc85cb",
   "metadata": {},
   "outputs": [],
   "source": [
    "# get files from NSIDC\n",
    "\n",
    "files_team = earthaccess.open(filtered_results)"
   ]
  },
  {
   "cell_type": "code",
   "execution_count": null,
   "id": "7641a562",
   "metadata": {},
   "outputs": [],
   "source": [
    "# search NASA database for Bootstrap\n",
    "\n",
    "results = earthaccess.search_data(\n",
    "    short_name= 'NSIDC-0079',\n",
    "    temporal=('2013-01-01', '2025-12-31'),\n",
    "    bounding_box=(-180, 0, 180, 90),\n",
    "    cloud_hosted=True\n",
    ")\n",
    "\n",
    "filtered_results = [\n",
    "    g for g in results\n",
    "    if re.search(r'_20\\d{6}_', g.data_links(access='external')[0])\n",
    "]\n",
    "\n",
    "print(f\"We found {len(results)} results matching your parameters, and filtered them down to {len(filtered_results)} by removing monthly averages\")"
   ]
  },
  {
   "cell_type": "code",
   "execution_count": null,
   "id": "683bdc4f",
   "metadata": {},
   "outputs": [],
   "source": [
    "# get files from NSIDC\n",
    "\n",
    "files_bootstrap = earthaccess.open(filtered_results)"
   ]
  },
  {
   "cell_type": "code",
   "execution_count": null,
   "id": "53f4708e",
   "metadata": {},
   "outputs": [],
   "source": [
    "# stream team into xarray\n",
    "\n",
    "ds = xr.open_mfdataset(files_team, parallel = True, concat_dim=\"time\", combine=\"nested\", data_vars='minimal', coords='minimal', compat='override')"
   ]
  },
  {
   "cell_type": "code",
   "execution_count": null,
   "id": "8e880da4",
   "metadata": {},
   "outputs": [],
   "source": [
    "# change ice concentration variable to something universal\n",
    "\n",
    "icecon_vars = sorted([var for var in ds.data_vars if 'ICECON'in var], reverse=True)\n",
    "icecon = ds[icecon_vars].to_array(\"source\").max(\"source\", skipna=True)\n",
    "\n",
    "# add back to dataset and clean up\n",
    "ds = ds.assign(team_icecon=icecon).drop_vars(icecon_vars)\n",
    "\n",
    "# print dataset and plot just to check this works\n",
    "ds.team_icecon.where(ds.team_icecon < 1.01).mean(dim='time').plot(cmap='Blues_r')"
   ]
  },
  {
   "cell_type": "code",
   "execution_count": null,
   "id": "07fb4114",
   "metadata": {},
   "outputs": [],
   "source": [
    "# stream bootstrap into xarray\n",
    "\n",
    "ds_bootstrap = xr.open_mfdataset(files_bootstrap, parallel = True, concat_dim=\"time\", combine=\"nested\", data_vars='minimal', coords='minimal', compat='override')"
   ]
  },
  {
   "cell_type": "code",
   "execution_count": null,
   "id": "fe3485a7",
   "metadata": {},
   "outputs": [],
   "source": [
    "# change ice concentration variable to something universal\n",
    "\n",
    "icecon_vars = sorted([var for var in ds_bootstrap.data_vars if 'ICECON'in var], reverse=True)\n",
    "icecon = ds_bootstrap[icecon_vars].to_array(\"source\").max(\"source\", skipna=True)\n",
    "\n",
    "# add back to dataset and clean up\n",
    "ds = ds.assign(bootstrap_icecon=icecon)\n",
    "\n",
    "# and plot just to check this works\n",
    "ds.bootstrap_icecon.where(ds.bootstrap_icecon < 1.01).mean(dim='time').plot(cmap='Blues_r')\n",
    "print(ds)"
   ]
  },
  {
   "cell_type": "code",
   "execution_count": null,
   "id": "3e4f7cd0",
   "metadata": {},
   "outputs": [],
   "source": [
    "# read in land file from geopandas and initialize transform (from NSIDC metadata)\n",
    "\n",
    "land = gpd.read_file(\"../data/ne_10m_land/ne_10m_land.shp\")\n",
    "land = land.to_crs(epsg=3411)\n",
    "transform = [25000, 0, -3830000, 0, -25000, 5830000]\n",
    "\n",
    "# ASK ALICE other transform  = transform = [25000, 0, -3837500, 0, -25000, 5837500] Which One????\n",
    "# from this: \n",
    "# dx = float(ds.x.diff('x').mean())\n",
    "# dy = float(ds.y.diff('y').mean())\n",
    "# x0 = float(ds.x.min())\n",
    "# y0 = float(ds.y.max())\n",
    "# transform = [dx, 0, x0, 0, -abs(dy), y0]\n",
    "\n",
    "# use transform to mask out coastal cells\n",
    "\n",
    "land_mask = features.rasterize(\n",
    "    ((geom, 1) for geom in land.geometry),\n",
    "    out_shape=(448, 304),\n",
    "    transform=transform,\n",
    "    fill=0,\n",
    "    dtype=np.uint8\n",
    ")\n",
    "\n",
    "# calculate distance from land using euclidian distance transform\n",
    "\n",
    "distance_from_land = distance_transform_edt(land_mask == 0)\n",
    "\n",
    "# convert to xarray.DataArray\n",
    "\n",
    "distance_xr = xr.DataArray(\n",
    "    distance_from_land,\n",
    "    coords={'y': ds.y, 'x': ds.x},\n",
    "    dims=('y', 'x'),\n",
    "    name='distance_to_land_cells'\n",
    ")\n",
    "\n",
    "# add as data variable in ds\n",
    "\n",
    "ds['edtl'] = distance_xr\n",
    "print(ds)"
   ]
  },
  {
   "cell_type": "code",
   "execution_count": null,
   "id": "8a9e3967",
   "metadata": {},
   "outputs": [],
   "source": [
    "# read in files\n",
    "\n",
    "folderpath = '../local_data/visual_ice/'\n",
    "paths = Path(folderpath).glob('*20??*.csv')\n",
    "pathlist = list(paths)\n",
    "pathlist"
   ]
  },
  {
   "cell_type": "code",
   "execution_count": null,
   "id": "aab14c3c",
   "metadata": {},
   "outputs": [],
   "source": [
    "# data cleaning of visual datasets\n",
    "\n",
    "visual = pd.concat(map(pd.read_csv, pathlist), ignore_index=True)\n",
    "\n",
    "# convert things for xarray\n",
    "\n",
    "row_to_lat = dict(enumerate(ds['x'].values))\n",
    "col_to_lon = dict(enumerate(ds['y'].values))\n",
    "visual[\"time\"] = pd.to_datetime(visual[\"Date\"], yearfirst=True)\n",
    "\n",
    "visual['Row'] = visual['Row'] - 1\n",
    "visual['Column'] = visual['Column'] - 1\n",
    "visual['x'] = visual['Row'].map(row_to_lat)\n",
    "visual['y'] = visual['Column'].map(col_to_lon)\n",
    "visual = visual.drop_duplicates(subset=[\"time\", \"x\", \"y\"])\n",
    "\n",
    "# convert pandas dataframe of visual things into chunked xarray dataset on time, lat, and lon\n",
    "\n",
    "da_sparse = visual.set_index(['time', 'y', 'x']).to_xarray()\n",
    "da_full = da_sparse.reindex_like(ds, method=None)\n",
    "da_full = da_full.chunk({'time': 2})\n",
    "da_full\n",
    "\n",
    "# assign visual data to the NASA team dataset and sanity check plot\n",
    "\n",
    "ds = ds.assign(**{'visual_ice': da_full['SI frac']})\n",
    "print(ds)"
   ]
  },
  {
   "cell_type": "code",
   "execution_count": null,
   "id": "9f33bbd8",
   "metadata": {},
   "outputs": [],
   "source": [
    "# sanity check one\n",
    "\n",
    "sns.set_style('darkgrid')\n",
    "sns.despine()\n",
    "\n",
    "ds_subset = ds.where(ds.team_icecon < 1.01)\n",
    "ax = ds_subset.team_icecon.mean(dim='time').plot(\n",
    "    cmap=cmap,\n",
    "    cbar_kwargs={'label': 'Sea Ice Concentration'},\n",
    "    figsize=(6,6)\n",
    ")\n",
    "\n",
    "plt.title(\"Mean PMW Sea Ice Concentration in 2023\")\n",
    "plt.xlabel(\"X (million meters)\")\n",
    "plt.ylabel(\"Y (million meters)\")\n",
    "plt.show()"
   ]
  },
  {
   "cell_type": "code",
   "execution_count": null,
   "id": "c10ca734",
   "metadata": {},
   "outputs": [],
   "source": [
    "# sanity check two\n",
    "\n",
    "x_min, x_max = visual['x'].min(), visual['x'].max()\n",
    "y_min, y_max = visual['y'].min(), visual['y'].max()\n",
    "\n",
    "ds_subset = ds.sel(x=slice(x_min, x_max), y=slice(y_max, y_min)).where(ds.edtl > 0)\n",
    "ax = ds_subset.team_icecon.mean(dim='time').plot(\n",
    "    cmap=cmap,\n",
    "    figsize=(6,6)\n",
    ")\n",
    "\n",
    "plt.scatter(\n",
    "    visual['x'],\n",
    "    visual['y'],\n",
    "    color='black',\n",
    "    s=1,\n",
    "    alpha=0.6\n",
    ")\n",
    "plt.title(\"Where we Have Visual Data in January, 2023\")\n",
    "plt.show()"
   ]
  },
  {
   "cell_type": "code",
   "execution_count": null,
   "id": "81507dfb",
   "metadata": {},
   "outputs": [],
   "source": [
    "# Error for NASA Team\n",
    "\n",
    "condition = ((ds.visual_ice.notnull()) & (ds.team_icecon < 1.001))\n",
    "ds_clean = ds.where(condition, other=np.nan).compute()"
   ]
  },
  {
   "cell_type": "code",
   "execution_count": null,
   "id": "b7c8424e",
   "metadata": {},
   "outputs": [],
   "source": [
    "# error calculation team\n",
    "\n",
    "error_team = (((ds_clean['team_icecon'] - ds_clean['visual_ice'])**2)**0.5)\n",
    "error_avg = error_team.mean(dim=['time', 'x', 'y'], skipna=True)\n",
    "print('RMS error for NASA Team is', error_avg.compute().item())"
   ]
  },
  {
   "cell_type": "code",
   "execution_count": null,
   "id": "c76fe974",
   "metadata": {},
   "outputs": [],
   "source": [
    "# map error NASA team\n",
    "\n",
    "sns.set_style('darkgrid')\n",
    "error_subset = error_team.sel(x=slice(x_min, x_max), y=slice(y_max, y_min))\n",
    "ax = error_subset.mean(dim='time', skipna=True).plot(cmap = 'RdBu', figsize=(6,6))\n",
    "plt.title(\"Error Between NASA Team and Visual Mapped 2023-04-01 to 2023-05-31\")\n",
    "plt.show()"
   ]
  },
  {
   "cell_type": "code",
   "execution_count": null,
   "id": "f66e272d",
   "metadata": {},
   "outputs": [],
   "source": [
    "# save a data cleaned pandas dataframe for team with everything (1.012 = coast, 1.016 = land)\n",
    "\n",
    "df = ds_clean.to_dataframe().reset_index()\n",
    "df"
   ]
  },
  {
   "cell_type": "code",
   "execution_count": null,
   "id": "40e56114",
   "metadata": {},
   "outputs": [],
   "source": [
    "# Error for NASA Bootstrap\n",
    "\n",
    "condition = ((ds.visual_ice.notnull()) & (ds.bootstrap_icecon < 1.001))\n",
    "ds_clean = ds.where(condition, other=np.nan).compute()"
   ]
  },
  {
   "cell_type": "code",
   "execution_count": null,
   "id": "fa1bf79d",
   "metadata": {},
   "outputs": [],
   "source": [
    "# error calculation bootstrap\n",
    "\n",
    "error_bootstrap = (((ds_clean['bootstrap_icecon'] - ds_clean['visual_ice'])**2)**0.5)\n",
    "error_avg = error_bootstrap.mean(dim=['time', 'x', 'y'], skipna=True)\n",
    "print('RMS error for NASA Bootstrap is', error_avg.compute().item())"
   ]
  },
  {
   "cell_type": "code",
   "execution_count": null,
   "id": "1d65d848",
   "metadata": {},
   "outputs": [],
   "source": [
    "# map error NASA bootstrap\n",
    "\n",
    "error_subset = error_bootstrap.sel(x=slice(x_min, x_max), y=slice(y_max, y_min))\n",
    "ax = error_subset.mean(dim='time', skipna=True).plot(cmap = 'RdBu', figsize=(6,6))\n",
    "plt.title(\"Error Between NASA Team and Visual Mapped 2023-04-01 to 2023-05-31\")\n",
    "plt.show()"
   ]
  },
  {
   "cell_type": "code",
   "execution_count": null,
   "id": "41c7675f",
   "metadata": {},
   "outputs": [],
   "source": [
    "# save a data cleaned pandas dataframe for boostrap with everything (1.012 = coast, 1.016 = land)\n",
    "\n",
    "df = ds_clean.to_dataframe().reset_index().dropna()"
   ]
  }
 ],
 "metadata": {
  "kernelspec": {
   "display_name": "coastal-ice",
   "language": "python",
   "name": "python3"
  },
  "language_info": {
   "codemirror_mode": {
    "name": "ipython",
    "version": 3
   },
   "file_extension": ".py",
   "mimetype": "text/x-python",
   "name": "python",
   "nbconvert_exporter": "python",
   "pygments_lexer": "ipython3",
   "version": "3.12.11"
  }
 },
 "nbformat": 4,
 "nbformat_minor": 5
}

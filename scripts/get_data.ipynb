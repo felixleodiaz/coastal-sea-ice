{
 "cells": [
  {
   "cell_type": "code",
   "execution_count": null,
   "id": "8fd615e2",
   "metadata": {},
   "outputs": [],
   "source": [
    "import earthaccess\n",
    "import xarray as xr\n",
    "import tenacity\n",
    "import dask"
   ]
  },
  {
   "cell_type": "code",
   "execution_count": null,
   "id": "967cd65e",
   "metadata": {},
   "outputs": [],
   "source": [
    "auth = earthaccess.login(strategy='interactive', persist = True)"
   ]
  },
  {
   "cell_type": "code",
   "execution_count": null,
   "id": "9f863278",
   "metadata": {},
   "outputs": [],
   "source": [
    "# rewrap function to deal with NASA earthaccess download time error (for ea direct downloads)\n",
    "\n",
    "always_retry = tenacity.retry(wait=tenacity.wait_random_exponential(multiplier=1, max=60))\n",
    "tenaciously_download_file = always_retry(earthaccess.__store__._download_file)\n",
    "earthaccess.__store__._download_file = tenaciously_download_file"
   ]
  },
  {
   "cell_type": "code",
   "execution_count": null,
   "id": "37b32bea",
   "metadata": {},
   "outputs": [],
   "source": [
    "# search for results (testing with just a couple days)\n",
    "\n",
    "results = earthaccess.search_data(\n",
    "    short_name='NSIDC-0051',\n",
    "    temporal=('2021-11-01', '2022-11-01'),\n",
    "    bounding_box=(-180, 0, 180, 90)\n",
    ")"
   ]
  },
  {
   "cell_type": "code",
   "execution_count": null,
   "id": "15e39339",
   "metadata": {},
   "outputs": [],
   "source": [
    "# create preprocess function to select just coastal areas\n",
    "\n",
    "def select_coastal(ds):\n",
    "\n",
    "    # do something here to just select coastal areas\n",
    "    # put non-coastal areas to n/a\n",
    "    # create coast index (0 for coast part of grid, 1 for 1 away, 2 for 2 away, 3 for 3 away, 4 for all else)\n",
    "\n",
    "    return ds"
   ]
  },
  {
   "cell_type": "code",
   "execution_count": null,
   "id": "27d3f19c",
   "metadata": {},
   "outputs": [],
   "source": [
    "# open results with xarray\n",
    "\n",
    "files = earthaccess.open(results)\n",
    "ds = xr.open_mfdataset(files, parallel=True, preprocess=select_coastal)"
   ]
  },
  {
   "cell_type": "code",
   "execution_count": null,
   "id": "1dafb23e",
   "metadata": {},
   "outputs": [],
   "source": [
    "# plot (need to get better arctic map)\n",
    "\n",
    "ds.isel(time=0).F17_ICECON.plot()"
   ]
  }
 ],
 "metadata": {
  "kernelspec": {
   "display_name": "coastal-ice",
   "language": "python",
   "name": "python3"
  },
  "language_info": {
   "codemirror_mode": {
    "name": "ipython",
    "version": 3
   },
   "file_extension": ".py",
   "mimetype": "text/x-python",
   "name": "python",
   "nbconvert_exporter": "python",
   "pygments_lexer": "ipython3",
   "version": "3.12.11"
  }
 },
 "nbformat": 4,
 "nbformat_minor": 5
}

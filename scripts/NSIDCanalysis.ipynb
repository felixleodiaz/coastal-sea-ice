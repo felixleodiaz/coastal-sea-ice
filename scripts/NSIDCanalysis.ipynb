{
 "cells": [
  {
   "cell_type": "code",
   "execution_count": 26,
   "id": "8fd615e2",
   "metadata": {},
   "outputs": [],
   "source": [
    "import earthaccess\n",
    "import xarray as xr\n",
    "import dask\n",
    "import numpy as np"
   ]
  },
  {
   "cell_type": "code",
   "execution_count": null,
   "id": "967cd65e",
   "metadata": {},
   "outputs": [],
   "source": [
    "# authenticate (you need a NASA earthaccess account for this)\n",
    "\n",
    "auth = earthaccess.login(strategy='interactive', persist = True)"
   ]
  },
  {
   "cell_type": "code",
   "execution_count": 28,
   "id": "37b32bea",
   "metadata": {},
   "outputs": [],
   "source": [
    "# search for results (testing with just a couple days)\n",
    "\n",
    "results = earthaccess.search_data(\n",
    "    short_name='NSIDC-0051',\n",
    "    temporal=('2021-11-01', '2021-12-01'),\n",
    "    bounding_box=(-180, 0, 180, 90)\n",
    ")"
   ]
  },
  {
   "cell_type": "code",
   "execution_count": 29,
   "id": "09d2ebd5",
   "metadata": {},
   "outputs": [],
   "source": [
    "# coastal mask function in next two cells\n",
    "\n",
    "import geopandas as gpd\n",
    "import cartopy.feature as cfeature\n",
    "from rasterio import features\n",
    "from scipy.ndimage import convolve"
   ]
  },
  {
   "cell_type": "code",
   "execution_count": 30,
   "id": "98fc3643",
   "metadata": {},
   "outputs": [],
   "source": [
    "def select_coastal(ds):\n",
    "\n",
    "    # load land polygons and reproject to EPSG:3411\n",
    "\n",
    "    land = gpd.read_file(\"data/naturalearth/ne_110m_admin_0_countries.shp\")\n",
    "    land = land.to_crs(epsg=3411)\n",
    "\n",
    "    # get transform for rasterizing\n",
    "\n",
    "    dx = float(ds.x.diff('x').mean())  # 25000 meters\n",
    "    dy = float(ds.y.diff('y').mean())  # 25000 meters\n",
    "    x0 = float(ds.x.min())\n",
    "    y0 = float(ds.y.min())\n",
    "    transform = [dx, 0, x0, 0, -dy, y0]\n",
    "\n",
    "    # rasterize land mask: 1 = land, 0 = ocean\n",
    "\n",
    "    land_mask = features.rasterize(\n",
    "        ((geom, 1) for geom in land.geometry),\n",
    "        out_shape=(ds.sizes['y'], ds.sizes['x']),\n",
    "        transform=transform,\n",
    "        fill=0,\n",
    "        dtype=np.uint8\n",
    "    )\n",
    "\n",
    "    # create coastal mask (within 3 grid cells of land)\n",
    "\n",
    "    ocean = (land_mask == 0).astype(int)\n",
    "    kernel = np.ones((7, 7))  # 3-cell radius\n",
    "    land_neighbor_count = convolve(1 - ocean, kernel, mode='constant', cval=0)\n",
    "    coastal_mask = (ocean == 1) & (land_neighbor_count > 0)\n",
    "\n",
    "    # convert to xarray.DataArray\n",
    "\n",
    "    coastal_mask_xr = xr.DataArray(\n",
    "        coastal_mask,\n",
    "        coords={'y': ds.y, 'x': ds.x},\n",
    "        dims=('y', 'x')\n",
    "    )\n",
    "\n",
    "    # apply mask\n",
    "\n",
    "    return ds.where(coastal_mask_xr)\n"
   ]
  },
  {
   "cell_type": "code",
   "execution_count": null,
   "id": "27d3f19c",
   "metadata": {},
   "outputs": [],
   "source": [
    "# open results with xarray\n",
    "\n",
    "files = earthaccess.open(results)\n",
    "ds = xr.open_mfdataset(files, parallel=True, combine='by_coords', preprocess=select_coastal)"
   ]
  },
  {
   "cell_type": "code",
   "execution_count": null,
   "id": "d68c45e1",
   "metadata": {},
   "outputs": [],
   "source": [
    "# mapping and some data analysis\n",
    "\n",
    "import cartopy.crs as ccrs\n",
    "import matplotlib.pyplot as plt"
   ]
  },
  {
   "cell_type": "code",
   "execution_count": null,
   "id": "6d72b735",
   "metadata": {},
   "outputs": [],
   "source": [
    "# start some analysis testing here"
   ]
  }
 ],
 "metadata": {
  "kernelspec": {
   "display_name": "coastal-ice",
   "language": "python",
   "name": "python3"
  },
  "language_info": {
   "codemirror_mode": {
    "name": "ipython",
    "version": 3
   },
   "file_extension": ".py",
   "mimetype": "text/x-python",
   "name": "python",
   "nbconvert_exporter": "python",
   "pygments_lexer": "ipython3",
   "version": "3.12.11"
  }
 },
 "nbformat": 4,
 "nbformat_minor": 5
}
